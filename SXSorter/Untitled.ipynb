{
 "cells": [
  {
   "cell_type": "code",
   "execution_count": 2,
   "metadata": {
    "collapsed": true
   },
   "outputs": [],
   "source": [
    "import pandas as pd\n",
    "import os"
   ]
  },
  {
   "cell_type": "code",
   "execution_count": 11,
   "metadata": {
    "collapsed": true
   },
   "outputs": [],
   "source": [
    "wdir = '/Users/candicewithrow/code/SXSorter/data'\n",
    "all_performances  = 'SXSWfreeShows1.json'\n"
   ]
  },
  {
   "cell_type": "code",
   "execution_count": 14,
   "metadata": {},
   "outputs": [],
   "source": [
    "perf_df = pd.read_json(os.path.join(wdir, all_performances), orient= 'record')"
   ]
  },
  {
   "cell_type": "code",
   "execution_count": 15,
   "metadata": {},
   "outputs": [
    {
     "data": {
      "text/html": [
       "<div>\n",
       "<style>\n",
       "    .dataframe thead tr:only-child th {\n",
       "        text-align: right;\n",
       "    }\n",
       "\n",
       "    .dataframe thead th {\n",
       "        text-align: left;\n",
       "    }\n",
       "\n",
       "    .dataframe tbody tr th {\n",
       "        vertical-align: top;\n",
       "    }\n",
       "</style>\n",
       "<table border=\"1\" class=\"dataframe\">\n",
       "  <thead>\n",
       "    <tr style=\"text-align: right;\">\n",
       "      <th></th>\n",
       "      <th>club</th>\n",
       "      <th>date</th>\n",
       "      <th>location</th>\n",
       "      <th>location_link</th>\n",
       "      <th>perf_name</th>\n",
       "      <th>perf_time</th>\n",
       "      <th>show_name</th>\n",
       "      <th>show_time</th>\n",
       "      <th>ticket_info</th>\n",
       "      <th>ticket_link</th>\n",
       "    </tr>\n",
       "  </thead>\n",
       "  <tbody>\n",
       "    <tr>\n",
       "      <th>1482</th>\n",
       "      <td>Hotel Vegas</td>\n",
       "      <td>Thursday, March 14</td>\n",
       "      <td></td>\n",
       "      <td>https://www.austinchronicle.com/locations/1175...</td>\n",
       "      <td>Viagra Boys</td>\n",
       "      <td>NaT</td>\n",
       "      <td>Levitation Day Party</td>\n",
       "      <td>2pm</td>\n",
       "      <td>RSVP</td>\n",
       "      <td>https://2019.do512.com/levitationdayparty2019</td>\n",
       "    </tr>\n",
       "    <tr>\n",
       "      <th>2813</th>\n",
       "      <td>Waterloo Records</td>\n",
       "      <td>Friday, March 15</td>\n",
       "      <td>None</td>\n",
       "      <td>https://www.austinchronicle.com/locations/46385/</td>\n",
       "      <td>Viagra Boys</td>\n",
       "      <td>2019-03-19 05:00:00</td>\n",
       "      <td>None</td>\n",
       "      <td>None</td>\n",
       "      <td>More info</td>\n",
       "      <td>http://events.waterloorecords.com/waterlooreco...</td>\n",
       "    </tr>\n",
       "    <tr>\n",
       "      <th>3801</th>\n",
       "      <td>Weather Up</td>\n",
       "      <td>Saturday, March 16</td>\n",
       "      <td>None</td>\n",
       "      <td>https://www.austinchronicle.com/locations/1351...</td>\n",
       "      <td>Viagra Boys</td>\n",
       "      <td>2019-03-19 05:30:00</td>\n",
       "      <td>Death Match Austin Day Three</td>\n",
       "      <td>None</td>\n",
       "      <td>Facebook</td>\n",
       "      <td>https://www.facebook.com/events/1953967284911322/</td>\n",
       "    </tr>\n",
       "  </tbody>\n",
       "</table>\n",
       "</div>"
      ],
      "text/plain": [
       "                  club                date location  \\\n",
       "1482       Hotel Vegas  Thursday, March 14            \n",
       "2813  Waterloo Records    Friday, March 15     None   \n",
       "3801        Weather Up  Saturday, March 16     None   \n",
       "\n",
       "                                          location_link    perf_name  \\\n",
       "1482  https://www.austinchronicle.com/locations/1175...  Viagra Boys   \n",
       "2813   https://www.austinchronicle.com/locations/46385/  Viagra Boys   \n",
       "3801  https://www.austinchronicle.com/locations/1351...  Viagra Boys   \n",
       "\n",
       "               perf_time                     show_name show_time ticket_info  \\\n",
       "1482                 NaT          Levitation Day Party       2pm        RSVP   \n",
       "2813 2019-03-19 05:00:00                          None      None   More info   \n",
       "3801 2019-03-19 05:30:00  Death Match Austin Day Three      None    Facebook   \n",
       "\n",
       "                                            ticket_link  \n",
       "1482      https://2019.do512.com/levitationdayparty2019  \n",
       "2813  http://events.waterloorecords.com/waterlooreco...  \n",
       "3801  https://www.facebook.com/events/1953967284911322/  "
      ]
     },
     "execution_count": 15,
     "metadata": {},
     "output_type": "execute_result"
    }
   ],
   "source": [
    "perf_df[perf_df['perf_name']=='Viagra Boys']\n"
   ]
  },
  {
   "cell_type": "code",
   "execution_count": null,
   "metadata": {
    "collapsed": true
   },
   "outputs": [],
   "source": []
  }
 ],
 "metadata": {
  "kernelspec": {
   "display_name": "Python 3",
   "language": "python",
   "name": "python3"
  },
  "language_info": {
   "codemirror_mode": {
    "name": "ipython",
    "version": 3
   },
   "file_extension": ".py",
   "mimetype": "text/x-python",
   "name": "python",
   "nbconvert_exporter": "python",
   "pygments_lexer": "ipython3",
   "version": "3.6.1"
  }
 },
 "nbformat": 4,
 "nbformat_minor": 2
}
