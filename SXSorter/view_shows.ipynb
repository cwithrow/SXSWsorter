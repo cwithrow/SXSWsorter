{
 "cells": [
  {
   "cell_type": "code",
   "execution_count": 2,
   "metadata": {
    "collapsed": true
   },
   "outputs": [],
   "source": [
    "import pandas as pd\n",
    "import os"
   ]
  },
  {
   "cell_type": "code",
   "execution_count": 16,
   "metadata": {
    "collapsed": true
   },
   "outputs": [],
   "source": [
    "wdir = '/Users/candicewithrow/code/SXSorter/data'\n",
    "all_performances  = 'SXSWfreeShows.json'\n"
   ]
  },
  {
   "cell_type": "code",
   "execution_count": 42,
   "metadata": {},
   "outputs": [],
   "source": [
    "perf_df = pd.read_json(os.path.join(wdir, all_performances), orient= 'record', dtype = False)"
   ]
  },
  {
   "cell_type": "code",
   "execution_count": 46,
   "metadata": {},
   "outputs": [
    {
     "data": {
      "text/html": [
       "<div>\n",
       "<style>\n",
       "    .dataframe thead tr:only-child th {\n",
       "        text-align: right;\n",
       "    }\n",
       "\n",
       "    .dataframe thead th {\n",
       "        text-align: left;\n",
       "    }\n",
       "\n",
       "    .dataframe tbody tr th {\n",
       "        vertical-align: top;\n",
       "    }\n",
       "</style>\n",
       "<table border=\"1\" class=\"dataframe\">\n",
       "  <thead>\n",
       "    <tr style=\"text-align: right;\">\n",
       "      <th></th>\n",
       "      <th>club</th>\n",
       "      <th>date</th>\n",
       "      <th>location</th>\n",
       "      <th>location_link</th>\n",
       "      <th>perf_name</th>\n",
       "      <th>perf_time</th>\n",
       "      <th>show_name</th>\n",
       "      <th>show_time</th>\n",
       "      <th>ticket_info</th>\n",
       "      <th>ticket_link</th>\n",
       "    </tr>\n",
       "  </thead>\n",
       "  <tbody>\n",
       "    <tr>\n",
       "      <th>542</th>\n",
       "      <td>GSD&amp;M; Advertising</td>\n",
       "      <td>Wednesday, March 13</td>\n",
       "      <td>None</td>\n",
       "      <td>https://www.austinchronicle.com/locations/45043/</td>\n",
       "      <td>Calliope Musicals</td>\n",
       "      <td>2:40</td>\n",
       "      <td>Black Fret Showcase</td>\n",
       "      <td>0</td>\n",
       "      <td>facebook</td>\n",
       "      <td>https://www.facebook.com/events/2051779921607658/</td>\n",
       "    </tr>\n",
       "    <tr>\n",
       "      <th>1410</th>\n",
       "      <td>Guero's Taco Bar</td>\n",
       "      <td>Thursday, March 14</td>\n",
       "      <td>None</td>\n",
       "      <td>https://www.austinchronicle.com/locations/47289/</td>\n",
       "      <td>Calliope Musicals</td>\n",
       "      <td>4:00</td>\n",
       "      <td>Frenchie Smith Records Showcase</td>\n",
       "      <td>0</td>\n",
       "      <td>Facebook</td>\n",
       "      <td>https://www.facebook.com/events/559926351193123/</td>\n",
       "    </tr>\n",
       "    <tr>\n",
       "      <th>2077</th>\n",
       "      <td>Buffalo Billiards</td>\n",
       "      <td>Friday, March 15</td>\n",
       "      <td>None</td>\n",
       "      <td>https://www.austinchronicle.com/locations/46990/</td>\n",
       "      <td>Calliope Musicals</td>\n",
       "      <td>4:00</td>\n",
       "      <td>101X Day Party</td>\n",
       "      <td>0</td>\n",
       "      <td>More info</td>\n",
       "      <td>https://www.101x.com/dayparty19</td>\n",
       "    </tr>\n",
       "    <tr>\n",
       "      <th>3207</th>\n",
       "      <td>Dozen Street</td>\n",
       "      <td>Saturday, March 16</td>\n",
       "      <td>None</td>\n",
       "      <td>https://www.austinchronicle.com/locations/1540...</td>\n",
       "      <td>Calliope Musicals</td>\n",
       "      <td>0</td>\n",
       "      <td>Easy Doz It</td>\n",
       "      <td>0</td>\n",
       "      <td>Facebook</td>\n",
       "      <td>https://www.facebook.com/events/2308398699372580/</td>\n",
       "    </tr>\n",
       "    <tr>\n",
       "      <th>3382</th>\n",
       "      <td>Key Bar</td>\n",
       "      <td>Saturday, March 16</td>\n",
       "      <td>None</td>\n",
       "      <td>https://www.austinchronicle.com/locations/703702/</td>\n",
       "      <td>Calliope Musicals</td>\n",
       "      <td>6:00</td>\n",
       "      <td>None</td>\n",
       "      <td>0</td>\n",
       "      <td>facebook</td>\n",
       "      <td>https://www.facebook.com/events/296187457718684/</td>\n",
       "    </tr>\n",
       "  </tbody>\n",
       "</table>\n",
       "</div>"
      ],
      "text/plain": [
       "                    club                 date location  \\\n",
       "542   GSD&M; Advertising  Wednesday, March 13     None   \n",
       "1410    Guero's Taco Bar   Thursday, March 14     None   \n",
       "2077   Buffalo Billiards     Friday, March 15     None   \n",
       "3207        Dozen Street   Saturday, March 16     None   \n",
       "3382             Key Bar   Saturday, March 16     None   \n",
       "\n",
       "                                          location_link          perf_name  \\\n",
       "542    https://www.austinchronicle.com/locations/45043/  Calliope Musicals   \n",
       "1410   https://www.austinchronicle.com/locations/47289/  Calliope Musicals   \n",
       "2077   https://www.austinchronicle.com/locations/46990/  Calliope Musicals   \n",
       "3207  https://www.austinchronicle.com/locations/1540...  Calliope Musicals   \n",
       "3382  https://www.austinchronicle.com/locations/703702/  Calliope Musicals   \n",
       "\n",
       "     perf_time                        show_name show_time ticket_info  \\\n",
       "542       2:40              Black Fret Showcase         0    facebook   \n",
       "1410      4:00  Frenchie Smith Records Showcase         0    Facebook   \n",
       "2077      4:00                   101X Day Party         0   More info   \n",
       "3207         0                      Easy Doz It         0    Facebook   \n",
       "3382      6:00                             None         0    facebook   \n",
       "\n",
       "                                            ticket_link  \n",
       "542   https://www.facebook.com/events/2051779921607658/  \n",
       "1410   https://www.facebook.com/events/559926351193123/  \n",
       "2077                    https://www.101x.com/dayparty19  \n",
       "3207  https://www.facebook.com/events/2308398699372580/  \n",
       "3382   https://www.facebook.com/events/296187457718684/  "
      ]
     },
     "execution_count": 46,
     "metadata": {},
     "output_type": "execute_result"
    }
   ],
   "source": [
    "perf_df[perf_df['perf_name']=='Calliope Musicals']\n"
   ]
  },
  {
   "cell_type": "code",
   "execution_count": null,
   "metadata": {
    "collapsed": true
   },
   "outputs": [],
   "source": []
  }
 ],
 "metadata": {
  "kernelspec": {
   "display_name": "Python 3",
   "language": "python",
   "name": "python3"
  },
  "language_info": {
   "codemirror_mode": {
    "name": "ipython",
    "version": 3
   },
   "file_extension": ".py",
   "mimetype": "text/x-python",
   "name": "python",
   "nbconvert_exporter": "python",
   "pygments_lexer": "ipython3",
   "version": "3.6.1"
  }
 },
 "nbformat": 4,
 "nbformat_minor": 2
}
